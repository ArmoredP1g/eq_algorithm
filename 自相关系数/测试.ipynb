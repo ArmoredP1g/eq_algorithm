{
 "cells": [
  {
   "cell_type": "code",
   "execution_count": 1,
   "metadata": {},
   "outputs": [],
   "source": [
    "import sys\n",
    "sys.path.append('./')\n",
    "from autocorrelation import Autocorrelation\n",
    "from obspy import read\n",
    "from obspy.core.utcdatetime import _datetime_to_ns\n",
    "import numpy as np"
   ]
  },
  {
   "cell_type": "code",
   "execution_count": 2,
   "metadata": {},
   "outputs": [],
   "source": [
    "st = read('D:\\\\source\\\\repos\\\\eq_algorithm\\\\data\\\\SF202210160854A-B758-08\\\\XJ.AHQ.00.20221016085459.mseed')"
   ]
  },
  {
   "cell_type": "code",
   "execution_count": 3,
   "metadata": {},
   "outputs": [],
   "source": [
    "ptime = st[0].stats['starttime']+20\n",
    "stime = st[0].stats['starttime']+30"
   ]
  },
  {
   "attachments": {},
   "cell_type": "markdown",
   "metadata": {},
   "source": [
    "### 正常计算"
   ]
  },
  {
   "cell_type": "code",
   "execution_count": 5,
   "metadata": {},
   "outputs": [],
   "source": [
    "flag, s, value = Autocorrelation('D:\\\\source\\\\repos\\\\eq_algorithm\\\\data\\\\SF202210160854A-B758-08\\\\XJ.AHQ.00.20221016085459.mseed',\n",
    "                ptime,\n",
    "                stime)"
   ]
  },
  {
   "cell_type": "code",
   "execution_count": 6,
   "metadata": {},
   "outputs": [
    {
     "data": {
      "text/plain": [
       "{'BHE': 0.4781409348037739,\n",
       " 'BHN': 0.48556870725391876,\n",
       " 'BHZ': 0.69009595711760907}"
      ]
     },
     "execution_count": 6,
     "metadata": {},
     "output_type": "execute_result"
    }
   ],
   "source": [
    "value"
   ]
  }
 ],
 "metadata": {
  "kernelspec": {
   "display_name": "earthquake",
   "language": "python",
   "name": "python3"
  },
  "language_info": {
   "codemirror_mode": {
    "name": "ipython",
    "version": 3
   },
   "file_extension": ".py",
   "mimetype": "text/x-python",
   "name": "python",
   "nbconvert_exporter": "python",
   "pygments_lexer": "ipython3",
   "version": "3.7.10"
  },
  "orig_nbformat": 4,
  "vscode": {
   "interpreter": {
    "hash": "9df6ff9e5a452475b81f87bd5d692245c477af8303380fa2e30a1c1e2e374103"
   }
  }
 },
 "nbformat": 4,
 "nbformat_minor": 2
}
